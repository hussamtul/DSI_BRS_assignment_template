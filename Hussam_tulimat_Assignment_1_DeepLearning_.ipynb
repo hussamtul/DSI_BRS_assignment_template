{
  "cells": [
    {
      "cell_type": "markdown",
      "metadata": {
        "id": "view-in-github",
        "colab_type": "text"
      },
      "source": [
        "<a href=\"https://colab.research.google.com/github/hussamtul/DSI_BRS_assignment_template/blob/main/Hussam_tulimat_Assignment_1_DeepLearning_.ipynb\" target=\"_parent\"><img src=\"https://colab.research.google.com/assets/colab-badge.svg\" alt=\"Open In Colab\"/></a>"
      ]
    },
    {
      "cell_type": "markdown",
      "id": "ba8ab56f",
      "metadata": {
        "id": "ba8ab56f"
      },
      "source": [
        "# Advanced Image Classification with CIFAR-100"
      ]
    },
    {
      "cell_type": "markdown",
      "source": [
        "In this graded assignment, you will be asked to develop a convolutional neural network (CNN) to classify images from the CIFAR-100 dataset. At each step, you'll be guided through the process of developing a model architecture to solve a problem. Your goal is to create a CNN that attains at least 30% accuracy on the validation set.\n",
        "\n",
        "### The CIFAR-100 Dataset\n",
        "\n",
        "The [CIFAR-100 dataset](https://www.cs.toronto.edu/~kriz/cifar.html) consists of 60000 32x32 colour images in 100 'fine' classes and 20 'coarse' classes. We will be looking at the 'coarse' classes.\n",
        "\n",
        "### Tools\n",
        "\n",
        "You will use Keras with TensorFlow to develop your CNN. For this assignment, it's strongly recommended that you use a GPU to accelerate your training, or else you might find it difficult to train your network in a reasonable amount of time. If you have a computer with a GPU that you wish to use, you can follow the [TensorFlow instructions](https://www.tensorflow.org/install/) for installing TensorFlow with GPU support. Otherwise, you can use [Google Colab](https://colab.research.google.com/) to complete this assignment. Colab provides free access to GPU-enabled machines. If you run into any issues, please make sure to email us as soon as possible so that we can help you resolve them."
      ],
      "metadata": {
        "collapsed": false,
        "id": "7c630244b8fe2847"
      },
      "id": "7c630244b8fe2847"
    },
    {
      "cell_type": "markdown",
      "source": [
        "## Task 1: Data Exploration and Preprocessing (7 Marks)\n",
        "### 1a: Load and Explore the Dataset  (3 Marks)\n",
        "- Use the code below to download the dataset.\n",
        "- Explore the dataset: examine the shape of the training and test sets, the dimensions of the images, and the number of classes. Show a few examples from the training set."
      ],
      "metadata": {
        "collapsed": false,
        "id": "fab62988ece1528d"
      },
      "id": "fab62988ece1528d"
    },
    {
      "cell_type": "code",
      "source": [
        "from keras.datasets import cifar100\n",
        "\n",
        "# Load the CIFAR-100 dataset\n",
        "(x_train, y_train), (x_test, y_test) = cifar100.load_data(label_mode='coarse')"
      ],
      "metadata": {
        "is_executing": true,
        "id": "8820fcdc5ae52ae2"
      },
      "id": "8820fcdc5ae52ae2",
      "outputs": [],
      "execution_count": 1
    },
    {
      "metadata": {
        "colab": {
          "base_uri": "https://localhost:8080/"
        },
        "id": "b8770ba6ba10ab1f",
        "outputId": "000c4916-ee84-4b93-9e70-6d5c3f7bcc46"
      },
      "cell_type": "code",
      "source": [
        "# Names of the classes\n",
        "class_names = ['aquatic mammals',\n",
        "               'fish',\n",
        "               'flowers',\n",
        "               'food containers',\n",
        "               'fruit and vegetables',\n",
        "               'household electrical devices',\n",
        "               'household furniture',\n",
        "               'insects',\n",
        "               'large carnivores',\n",
        "               'large man-made outdoor things',\n",
        "               'large natural outdoor scenes',\n",
        "               'large omnivores and herbivores',\n",
        "               'medium-sized mammals',\n",
        "               'non-insect invertebrates',\n",
        "               'people',\n",
        "               'reptiles',\n",
        "               'small mammals',\n",
        "               'trees',\n",
        "               'vehicles 1',\n",
        "               'vehicles 2']\n",
        "print(len(class_names))"
      ],
      "id": "b8770ba6ba10ab1f",
      "outputs": [
        {
          "output_type": "stream",
          "name": "stdout",
          "text": [
            "20\n"
          ]
        }
      ],
      "execution_count": 2
    },
    {
      "cell_type": "code",
      "source": [
        "from keras.datasets import cifar100\n",
        "import matplotlib.pyplot as plt\n",
        "\n",
        "# Load the CIFAR-100 dataset\n",
        "(x_train, y_train), (x_test, y_test) = cifar100.load_data(label_mode='coarse')\n",
        "\n",
        "# Print the shapes of training and test sets\n",
        "print(\"Shape of training images:\", x_train.shape)\n",
        "print(\"Shape of training labels:\", y_train.shape)\n",
        "print(\"Shape of test images:\", x_test.shape)\n",
        "print(\"Shape of test labels:\", y_test.shape)\n",
        "\n",
        "# Get the dimensions of an image\n",
        "image_dim = x_train.shape[1:]\n",
        "print(\"Dimensions of an image:\", image_dim)\n",
        "\n",
        "# Print the number of classes\n",
        "num_classes = len(set(y_train.flatten()))\n",
        "print(\"Number of classes:\", num_classes)\n",
        "\n",
        "# Print class names\n",
        "print(\"Class Names:\")\n",
        "for i, class_name in enumerate(class_names):\n",
        "  print(f\"{i}. {class_name}\")\n",
        "\n",
        "# Plot a few examples from the training set\n",
        "plt.figure(figsize=(10, 5))\n",
        "for i in range(9):\n",
        "  # Rescale the image to [0, 1] for plotting\n",
        "  plt.subplot(3, 3, i+1)\n",
        "  plt.imshow(x_train[i].astype('float32') / 255)\n",
        "  plt.title(class_names[y_train[i][0]])\n",
        "  plt.axis('off')\n",
        "plt.suptitle(\"Sample Images from CIFAR-100 Dataset (Coarse Classes)\")\n",
        "plt.show()\n"
      ],
      "metadata": {
        "colab": {
          "base_uri": "https://localhost:8080/",
          "height": 954
        },
        "id": "a386b4072078138f",
        "outputId": "9aa955c3-e062-4def-b744-591992288857"
      },
      "id": "a386b4072078138f",
      "outputs": [
        {
          "output_type": "stream",
          "name": "stdout",
          "text": [
            "Shape of training images: (50000, 32, 32, 3)\n",
            "Shape of training labels: (50000, 1)\n",
            "Shape of test images: (10000, 32, 32, 3)\n",
            "Shape of test labels: (10000, 1)\n",
            "Dimensions of an image: (32, 32, 3)\n",
            "Number of classes: 20\n",
            "Class Names:\n",
            "0. aquatic mammals\n",
            "1. fish\n",
            "2. flowers\n",
            "3. food containers\n",
            "4. fruit and vegetables\n",
            "5. household electrical devices\n",
            "6. household furniture\n",
            "7. insects\n",
            "8. large carnivores\n",
            "9. large man-made outdoor things\n",
            "10. large natural outdoor scenes\n",
            "11. large omnivores and herbivores\n",
            "12. medium-sized mammals\n",
            "13. non-insect invertebrates\n",
            "14. people\n",
            "15. reptiles\n",
            "16. small mammals\n",
            "17. trees\n",
            "18. vehicles 1\n",
            "19. vehicles 2\n"
          ]
        },
        {
          "output_type": "display_data",
          "data": {
            "text/plain": [
              "<Figure size 1000x500 with 9 Axes>"
            ],
            "image/png": "[encoded data removed]"
          },
          "metadata": {}
        }
      ],
      "execution_count": 3
    },
    {
      "cell_type": "markdown",
      "source": [
        "### 1b: Data Preprocessing (4 Marks)\n",
        "- With the data downloaded, it's time to preprocess it. Start by normalizing the images so that they all have pixel values in the range [0, 1].\n",
        "- Next, convert the labels to one-hot encoded vectors.\n",
        "- Finally, split the training set into training and validation sets. Use 80% of the training set for training and the remaining 20% for validation."
      ],
      "metadata": {
        "collapsed": false,
        "id": "ad49291da3a819ea"
      },
      "id": "ad49291da3a819ea"
    },
    {
      "cell_type": "code",
      "source": [
        "from tensorflow import keras\n",
        "from sklearn.model_selection import train_test_split\n",
        "\n",
        "# Normalize pixel values (convert data type to float32 for division)\n",
        "x_train_norm = x_train.astype('float32') / 255\n",
        "x_test_norm = x_test.astype('float32') / 255\n",
        "\n",
        "# One-hot encode labels\n",
        "y_train_cat = keras.utils.to_categorical(y_train, num_classes=20)\n",
        "y_test_cat = keras.utils.to_categorical(y_test, num_classes=20)\n",
        "\n",
        "# Split training data into training and validation sets\n",
        "X_train, X_val, y_train, y_val = train_test_split(x_train_norm, y_train_cat, test_size=0.2, random_state=42)\n",
        "\n",
        "print(\"Shape of training images after normalization:\", X_train.shape)\n",
        "print(\"Shape of validation images after normalization:\", X_val.shape)\n",
        "print(\"Shape of training labels after one-hot encoding:\", y_train.shape)\n",
        "print(\"Shape of validation labels after one-hot encoding:\", y_val.shape)\n",
        "\n"
      ],
      "metadata": {
        "colab": {
          "base_uri": "https://localhost:8080/"
        },
        "id": "b18c10172fa72d0c",
        "outputId": "e52c424c-d8f3-43ed-c5fd-cdbb00620699"
      },
      "id": "b18c10172fa72d0c",
      "outputs": [
        {
          "output_type": "stream",
          "name": "stdout",
          "text": [
            "Shape of training images after normalization: (40000, 32, 32, 3)\n",
            "Shape of validation images after normalization: (10000, 32, 32, 3)\n",
            "Shape of training labels after one-hot encoding: (40000, 20)\n",
            "Shape of validation labels after one-hot encoding: (10000, 20)\n"
          ]
        }
      ],
      "execution_count": 4
    },
    {
      "cell_type": "markdown",
      "source": [
        "## Task 2: Model Development (8 Marks)\n",
        "### Task 2a: Create a Baseline CNN Model (5 Marks)\n",
        "- Design a CNN architecture. Your architecture should use convolutional layers, max pooling layers, and dense layers. You can use any number of layers, and you can experiment with different numbers of filters, filter sizes, strides, padding, etc. The design doesn't need to be perfect, but it should be unique to you.\n",
        "- Print out the model summary."
      ],
      "metadata": {
        "collapsed": false,
        "id": "5993757f08c89db7"
      },
      "id": "5993757f08c89db7"
    },
    {
      "cell_type": "code",
      "source": [
        "from tensorflow.keras import Sequential\n",
        "from tensorflow.keras.layers import Conv2D, MaxPooling2D, Flatten, Dense\n",
        "\n",
        "# Define the model\n",
        "model = Sequential()\n",
        "\n",
        "# Convolutional layer 1 with 16 filters\n",
        "model.add(Conv2D(filters=16, kernel_size=(3, 3), activation='relu', input_shape=(32, 32, 3)))\n",
        "# Max pooling layer 1\n",
        "model.add(MaxPooling2D(pool_size=(2, 2)))\n",
        "\n",
        "# Convolutional layer 2 with 32 filters\n",
        "model.add(Conv2D(filters=32, kernel_size=(3, 3), activation='relu'))\n",
        "# Max pooling layer 2\n",
        "model.add(MaxPooling2D(pool_size=(2, 2)))\n",
        "\n",
        "# Flatten the output of the convolutional layers\n",
        "model.add(Flatten())\n",
        "\n",
        "# Dense layer 1 with 64 units\n",
        "model.add(Dense(units=64, activation='relu'))\n",
        "\n",
        "# Output layer\n",
        "model.add(Dense(units=20, activation='softmax'))  # 20 units for 20 classes\n",
        "\n",
        "# Print the model summary\n",
        "model.summary()\n"
      ],
      "metadata": {
        "colab": {
          "base_uri": "https://localhost:8080/",
          "height": 419
        },
        "id": "c9edafdaf887b8d5",
        "outputId": "b5df0494-c40d-46b2-e293-51dd2cb6d769"
      },
      "id": "c9edafdaf887b8d5",
      "outputs": [
        {
          "output_type": "stream",
          "name": "stderr",
          "text": [
            "/usr/local/lib/python3.10/dist-packages/keras/src/layers/convolutional/base_conv.py:99: UserWarning: Do not pass an `input_shape`/`input_dim` argument to a layer. When using Sequential models, prefer using an `Input(shape)` object as the first layer in the model instead.\n",
            "  super().__init__(\n"
          ]
        },
        {
          "output_type": "display_data",
          "data": {
            "text/plain": [
              "\u001b[1mModel: \"sequential\"\u001b[0m\n"
            ],
            "text/html": [
              "<pre style=\"white-space:pre;overflow-x:auto;line-height:normal;font-family:Menlo,'DejaVu Sans Mono',consolas,'Courier New',monospace\"><span style=\"font-weight: bold\">Model: \"sequential\"</span>\n",
              "</pre>\n"
            ]
          },
          "metadata": {}
        },
        {
          "output_type": "display_data",
          "data": {
            "text/plain": [
              "┏━━━━━━━━━━━━━━━━━━━━━━━━━━━━━━━━━━━━━━┳━━━━━━━━━━━━━━━━━━━━━━━━━━━━━┳━━━━━━━━━━━━━━━━━┓\n",
              "┃\u001b[1m \u001b[0m\u001b[1mLayer (type)                        \u001b[0m\u001b[1m \u001b[0m┃\u001b[1m \u001b[0m\u001b[1mOutput Shape               \u001b[0m\u001b[1m \u001b[0m┃\u001b[1m \u001b[0m\u001b[1m        Param #\u001b[0m\u001b[1m \u001b[0m┃\n",
              "┡━━━━━━━━━━━━━━━━━━━━━━━━━━━━━━━━━━━━━━╇━━━━━━━━━━━━━━━━━━━━━━━━━━━━━╇━━━━━━━━━━━━━━━━━┩\n",
              "│ conv2d (\u001b[38;5;33mConv2D\u001b[0m)                      │ (\u001b[38;5;45mNone\u001b[0m, \u001b[38;5;34m30\u001b[0m, \u001b[38;5;34m30\u001b[0m, \u001b[38;5;34m16\u001b[0m)          │             \u001b[38;5;34m448\u001b[0m │\n",
              "├──────────────────────────────────────┼─────────────────────────────┼─────────────────┤\n",
              "│ max_pooling2d (\u001b[38;5;33mMaxPooling2D\u001b[0m)         │ (\u001b[38;5;45mNone\u001b[0m, \u001b[38;5;34m15\u001b[0m, \u001b[38;5;34m15\u001b[0m, \u001b[38;5;34m16\u001b[0m)          │               \u001b[38;5;34m0\u001b[0m │\n",
              "├──────────────────────────────────────┼─────────────────────────────┼─────────────────┤\n",
              "│ conv2d_1 (\u001b[38;5;33mConv2D\u001b[0m)                    │ (\u001b[38;5;45mNone\u001b[0m, \u001b[38;5;34m13\u001b[0m, \u001b[38;5;34m13\u001b[0m, \u001b[38;5;34m32\u001b[0m)          │           \u001b[38;5;34m4,640\u001b[0m │\n",
              "├──────────────────────────────────────┼─────────────────────────────┼─────────────────┤\n",
              "│ max_pooling2d_1 (\u001b[38;5;33mMaxPooling2D\u001b[0m)       │ (\u001b[38;5;45mNone\u001b[0m, \u001b[38;5;34m6\u001b[0m, \u001b[38;5;34m6\u001b[0m, \u001b[38;5;34m32\u001b[0m)            │               \u001b[38;5;34m0\u001b[0m │\n",
              "├──────────────────────────────────────┼─────────────────────────────┼─────────────────┤\n",
              "│ flatten (\u001b[38;5;33mFlatten\u001b[0m)                    │ (\u001b[38;5;45mNone\u001b[0m, \u001b[38;5;34m1152\u001b[0m)                │               \u001b[38;5;34m0\u001b[0m │\n",
              "├──────────────────────────────────────┼─────────────────────────────┼─────────────────┤\n",
              "│ dense (\u001b[38;5;33mDense\u001b[0m)                        │ (\u001b[38;5;45mNone\u001b[0m, \u001b[38;5;34m64\u001b[0m)                  │          \u001b[38;5;34m73,792\u001b[0m │\n",
              "├──────────────────────────────────────┼─────────────────────────────┼─────────────────┤\n",
              "│ dense_1 (\u001b[38;5;33mDense\u001b[0m)                      │ (\u001b[38;5;45mNone\u001b[0m, \u001b[38;5;34m20\u001b[0m)                  │           \u001b[38;5;34m1,300\u001b[0m │\n",
              "└──────────────────────────────────────┴─────────────────────────────┴─────────────────┘\n"
            ],
            "text/html": [
              "<pre style=\"white-space:pre;overflow-x:auto;line-height:normal;font-family:Menlo,'DejaVu Sans Mono',consolas,'Courier New',monospace\">┏━━━━━━━━━━━━━━━━━━━━━━━━━━━━━━━━━━━━━━┳━━━━━━━━━━━━━━━━━━━━━━━━━━━━━┳━━━━━━━━━━━━━━━━━┓\n",
              "┃<span style=\"font-weight: bold\"> Layer (type)                         </span>┃<span style=\"font-weight: bold\"> Output Shape                </span>┃<span style=\"font-weight: bold\">         Param # </span>┃\n",
              "┡━━━━━━━━━━━━━━━━━━━━━━━━━━━━━━━━━━━━━━╇━━━━━━━━━━━━━━━━━━━━━━━━━━━━━╇━━━━━━━━━━━━━━━━━┩\n",
              "│ conv2d (<span style=\"color: #0087ff; text-decoration-color: #0087ff\">Conv2D</span>)                      │ (<span style=\"color: #00d7ff; text-decoration-color: #00d7ff\">None</span>, <span style=\"color: #00af00; text-decoration-color: #00af00\">30</span>, <span style=\"color: #00af00; text-decoration-color: #00af00\">30</span>, <span style=\"color: #00af00; text-decoration-color: #00af00\">16</span>)          │             <span style=\"color: #00af00; text-decoration-color: #00af00\">448</span> │\n",
              "├──────────────────────────────────────┼─────────────────────────────┼─────────────────┤\n",
              "│ max_pooling2d (<span style=\"color: #0087ff; text-decoration-color: #0087ff\">MaxPooling2D</span>)         │ (<span style=\"color: #00d7ff; text-decoration-color: #00d7ff\">None</span>, <span style=\"color: #00af00; text-decoration-color: #00af00\">15</span>, <span style=\"color: #00af00; text-decoration-color: #00af00\">15</span>, <span style=\"color: #00af00; text-decoration-color: #00af00\">16</span>)          │               <span style=\"color: #00af00; text-decoration-color: #00af00\">0</span> │\n",
              "├──────────────────────────────────────┼─────────────────────────────┼─────────────────┤\n",
              "│ conv2d_1 (<span style=\"color: #0087ff; text-decoration-color: #0087ff\">Conv2D</span>)                    │ (<span style=\"color: #00d7ff; text-decoration-color: #00d7ff\">None</span>, <span style=\"color: #00af00; text-decoration-color: #00af00\">13</span>, <span style=\"color: #00af00; text-decoration-color: #00af00\">13</span>, <span style=\"color: #00af00; text-decoration-color: #00af00\">32</span>)          │           <span style=\"color: #00af00; text-decoration-color: #00af00\">4,640</span> │\n",
              "├──────────────────────────────────────┼─────────────────────────────┼─────────────────┤\n",
              "│ max_pooling2d_1 (<span style=\"color: #0087ff; text-decoration-color: #0087ff\">MaxPooling2D</span>)       │ (<span style=\"color: #00d7ff; text-decoration-color: #00d7ff\">None</span>, <span style=\"color: #00af00; text-decoration-color: #00af00\">6</span>, <span style=\"color: #00af00; text-decoration-color: #00af00\">6</span>, <span style=\"color: #00af00; text-decoration-color: #00af00\">32</span>)            │               <span style=\"color: #00af00; text-decoration-color: #00af00\">0</span> │\n",
              "├──────────────────────────────────────┼─────────────────────────────┼─────────────────┤\n",
              "│ flatten (<span style=\"color: #0087ff; text-decoration-color: #0087ff\">Flatten</span>)                    │ (<span style=\"color: #00d7ff; text-decoration-color: #00d7ff\">None</span>, <span style=\"color: #00af00; text-decoration-color: #00af00\">1152</span>)                │               <span style=\"color: #00af00; text-decoration-color: #00af00\">0</span> │\n",
              "├──────────────────────────────────────┼─────────────────────────────┼─────────────────┤\n",
              "│ dense (<span style=\"color: #0087ff; text-decoration-color: #0087ff\">Dense</span>)                        │ (<span style=\"color: #00d7ff; text-decoration-color: #00d7ff\">None</span>, <span style=\"color: #00af00; text-decoration-color: #00af00\">64</span>)                  │          <span style=\"color: #00af00; text-decoration-color: #00af00\">73,792</span> │\n",
              "├──────────────────────────────────────┼─────────────────────────────┼─────────────────┤\n",
              "│ dense_1 (<span style=\"color: #0087ff; text-decoration-color: #0087ff\">Dense</span>)                      │ (<span style=\"color: #00d7ff; text-decoration-color: #00d7ff\">None</span>, <span style=\"color: #00af00; text-decoration-color: #00af00\">20</span>)                  │           <span style=\"color: #00af00; text-decoration-color: #00af00\">1,300</span> │\n",
              "└──────────────────────────────────────┴─────────────────────────────┴─────────────────┘\n",
              "</pre>\n"
            ]
          },
          "metadata": {}
        },
        {
          "output_type": "display_data",
          "data": {
            "text/plain": [
              "\u001b[1m Total params: \u001b[0m\u001b[38;5;34m80,180\u001b[0m (313.20 KB)\n"
            ],
            "text/html": [
              "<pre style=\"white-space:pre;overflow-x:auto;line-height:normal;font-family:Menlo,'DejaVu Sans Mono',consolas,'Courier New',monospace\"><span style=\"font-weight: bold\"> Total params: </span><span style=\"color: #00af00; text-decoration-color: #00af00\">80,180</span> (313.20 KB)\n",
              "</pre>\n"
            ]
          },
          "metadata": {}
        },
        {
          "output_type": "display_data",
          "data": {
            "text/plain": [
              "\u001b[1m Trainable params: \u001b[0m\u001b[38;5;34m80,180\u001b[0m (313.20 KB)\n"
            ],
            "text/html": [
              "<pre style=\"white-space:pre;overflow-x:auto;line-height:normal;font-family:Menlo,'DejaVu Sans Mono',consolas,'Courier New',monospace\"><span style=\"font-weight: bold\"> Trainable params: </span><span style=\"color: #00af00; text-decoration-color: #00af00\">80,180</span> (313.20 KB)\n",
              "</pre>\n"
            ]
          },
          "metadata": {}
        },
        {
          "output_type": "display_data",
          "data": {
            "text/plain": [
              "\u001b[1m Non-trainable params: \u001b[0m\u001b[38;5;34m0\u001b[0m (0.00 B)\n"
            ],
            "text/html": [
              "<pre style=\"white-space:pre;overflow-x:auto;line-height:normal;font-family:Menlo,'DejaVu Sans Mono',consolas,'Courier New',monospace\"><span style=\"font-weight: bold\"> Non-trainable params: </span><span style=\"color: #00af00; text-decoration-color: #00af00\">0</span> (0.00 B)\n",
              "</pre>\n"
            ]
          },
          "metadata": {}
        }
      ],
      "execution_count": 5
    },
    {
      "cell_type": "markdown",
      "source": [
        "### Task 2b: Compile the model (3 Marks)\n",
        "\n",
        "- Select an appropriate loss function and optimizer for your model. These can be ones we have looked at already, or they can be different.\n",
        "- Briefly explain your choices (one or two sentences each).\n",
        "- <b>Loss function:</b> ______\n",
        "- <b>Optimizer:</b> ______"
      ],
      "metadata": {
        "collapsed": false,
        "id": "546324c007c73db5"
      },
      "id": "546324c007c73db5"
    },
    {
      "cell_type": "markdown",
      "source": [
        "Loss function: Categorical Crossentropy\n",
        "\n",
        "This is a suitable choice for multi-class classification problems with one-hot encoded labels, as used in this case. It measures the difference between the predicted probability distribution (softmax output) and the true one-hot encoded distribution.\n",
        "\n",
        "Optimizer: Adam\n",
        "\n",
        "Adam (Adaptive Moment Estimation) is a popular optimizer that combines the benefits of SGD (stochastic gradient descent) with momentum and RMSprop. It adapts the learning rate for each parameter based on historical gradients, often leading to faster convergence and potentially better performance compared to SGD."
      ],
      "metadata": {
        "id": "sMzisJKydCtb"
      },
      "id": "sMzisJKydCtb"
    },
    {
      "cell_type": "code",
      "source": [
        "from keras import optimizers\n",
        "\n",
        "# Compile the model\n",
        "model.compile(loss='categorical_crossentropy',\n",
        "              optimizer=optimizers.Adam(learning_rate=0.001),\n",
        "              metrics=['accuracy'])"
      ],
      "metadata": {
        "id": "ab39f4ba69d684e9"
      },
      "id": "ab39f4ba69d684e9",
      "outputs": [],
      "execution_count": 6
    },
    {
      "cell_type": "markdown",
      "source": [
        "## Task 3: Model Training and Evaluation (10 Marks)\n",
        "### Task 3a: Train the Model (3 Marks)\n",
        "\n",
        "- Train your model for an appropriate number of epochs. Explain your choice of the number of epochs used - you can change this number before submitting your assignment.\n",
        "- Use a batch size of 32.\n",
        "- Use the validation set for validation."
      ],
      "metadata": {
        "collapsed": false,
        "id": "653fba928413b9f6"
      },
      "id": "653fba928413b9f6"
    },
    {
      "cell_type": "code",
      "source": [
        "from tensorflow.keras.callbacks import EarlyStopping\n",
        "\n",
        "# Define early stopping to prevent overfitting\n",
        "early_stopping = EarlyStopping(monitor='val_loss', patience=3)\n",
        "\n",
        "# Train the model\n",
        "model.fit(X_train, y_train,\n",
        "          epochs=15,\n",
        "          batch_size=32,\n",
        "          validation_data=(X_val, y_val),\n",
        "          callbacks=[early_stopping])"
      ],
      "metadata": {
        "colab": {
          "base_uri": "https://localhost:8080/"
        },
        "id": "9de74f274ad08546",
        "outputId": "adf4e866-25de-4e0a-ad85-c286aec3eb1f"
      },
      "id": "9de74f274ad08546",
      "outputs": [
        {
          "output_type": "stream",
          "name": "stdout",
          "text": [
            "Epoch 1/15\n",
            "\u001b[1m1250/1250\u001b[0m \u001b[32m━━━━━━━━━━━━━━━━━━━━\u001b[0m\u001b[37m\u001b[0m \u001b[1m10s\u001b[0m 4ms/step - accuracy: 0.1766 - loss: 2.6649 - val_accuracy: 0.3216 - val_loss: 2.2000\n",
            "Epoch 2/15\n",
            "\u001b[1m1250/1250\u001b[0m \u001b[32m━━━━━━━━━━━━━━━━━━━━\u001b[0m\u001b[37m\u001b[0m \u001b[1m6s\u001b[0m 3ms/step - accuracy: 0.3397 - loss: 2.1428 - val_accuracy: 0.3763 - val_loss: 2.0066\n",
            "Epoch 3/15\n",
            "\u001b[1m1250/1250\u001b[0m \u001b[32m━━━━━━━━━━━━━━━━━━━━\u001b[0m\u001b[37m\u001b[0m \u001b[1m6s\u001b[0m 3ms/step - accuracy: 0.3935 - loss: 1.9707 - val_accuracy: 0.3919 - val_loss: 1.9892\n",
            "Epoch 4/15\n",
            "\u001b[1m1250/1250\u001b[0m \u001b[32m━━━━━━━━━━━━━━━━━━━━\u001b[0m\u001b[37m\u001b[0m \u001b[1m5s\u001b[0m 3ms/step - accuracy: 0.4239 - loss: 1.8612 - val_accuracy: 0.4278 - val_loss: 1.8555\n",
            "Epoch 5/15\n",
            "\u001b[1m1250/1250\u001b[0m \u001b[32m━━━━━━━━━━━━━━━━━━━━\u001b[0m\u001b[37m\u001b[0m \u001b[1m5s\u001b[0m 3ms/step - accuracy: 0.4479 - loss: 1.7796 - val_accuracy: 0.4108 - val_loss: 1.9007\n",
            "Epoch 6/15\n",
            "\u001b[1m1250/1250\u001b[0m \u001b[32m━━━━━━━━━━━━━━━━━━━━\u001b[0m\u001b[37m\u001b[0m \u001b[1m4s\u001b[0m 3ms/step - accuracy: 0.4657 - loss: 1.7228 - val_accuracy: 0.4361 - val_loss: 1.8323\n",
            "Epoch 7/15\n",
            "\u001b[1m1250/1250\u001b[0m \u001b[32m━━━━━━━━━━━━━━━━━━━━\u001b[0m\u001b[37m\u001b[0m \u001b[1m5s\u001b[0m 3ms/step - accuracy: 0.4825 - loss: 1.6606 - val_accuracy: 0.4462 - val_loss: 1.8074\n",
            "Epoch 8/15\n",
            "\u001b[1m1250/1250\u001b[0m \u001b[32m━━━━━━━━━━━━━━━━━━━━\u001b[0m\u001b[37m\u001b[0m \u001b[1m3s\u001b[0m 3ms/step - accuracy: 0.4966 - loss: 1.6138 - val_accuracy: 0.4530 - val_loss: 1.7956\n",
            "Epoch 9/15\n",
            "\u001b[1m1250/1250\u001b[0m \u001b[32m━━━━━━━━━━━━━━━━━━━━\u001b[0m\u001b[37m\u001b[0m \u001b[1m5s\u001b[0m 3ms/step - accuracy: 0.5148 - loss: 1.5575 - val_accuracy: 0.4514 - val_loss: 1.7930\n",
            "Epoch 10/15\n",
            "\u001b[1m1250/1250\u001b[0m \u001b[32m━━━━━━━━━━━━━━━━━━━━\u001b[0m\u001b[37m\u001b[0m \u001b[1m5s\u001b[0m 3ms/step - accuracy: 0.5253 - loss: 1.5296 - val_accuracy: 0.4498 - val_loss: 1.8130\n",
            "Epoch 11/15\n",
            "\u001b[1m1250/1250\u001b[0m \u001b[32m━━━━━━━━━━━━━━━━━━━━\u001b[0m\u001b[37m\u001b[0m \u001b[1m5s\u001b[0m 3ms/step - accuracy: 0.5317 - loss: 1.4867 - val_accuracy: 0.4519 - val_loss: 1.8186\n",
            "Epoch 12/15\n",
            "\u001b[1m1250/1250\u001b[0m \u001b[32m━━━━━━━━━━━━━━━━━━━━\u001b[0m\u001b[37m\u001b[0m \u001b[1m5s\u001b[0m 3ms/step - accuracy: 0.5434 - loss: 1.4531 - val_accuracy: 0.4604 - val_loss: 1.8012\n"
          ]
        },
        {
          "output_type": "execute_result",
          "data": {
            "text/plain": [
              "<keras.src.callbacks.history.History at 0x7bb0830d7850>"
            ]
          },
          "metadata": {},
          "execution_count": 7
        }
      ],
      "execution_count": 7
    },
    {
      "cell_type": "markdown",
      "source": [
        "### Task 3b: Accuracy and other relevant metrics on the test set (3 Marks)\n",
        "\n",
        "- Report the accuracy of your model on the test set.\n",
        "- While accuracy is a good metric, there are many other ways to numerically evaluate a model. Report at least one other metric, and explain what it measures and how it is calculated.\n",
        "\n",
        "- <b>Accuracy:</b> ______\n",
        "- <b>Other metric:</b> ______\n",
        "- <b>Reason for selection:</b> _____\n",
        "- <b>Value of metric:</b> ______\n",
        "- <b>Interpretation of metric value:</b> ______"
      ],
      "metadata": {
        "collapsed": false,
        "id": "b48615c26b99d2e9"
      },
      "id": "b48615c26b99d2e9"
    },
    {
      "cell_type": "code",
      "source": [
        "from tensorflow.keras import backend as K\n",
        "K.clear_session()\n"
      ],
      "metadata": {
        "id": "kBA3CjXphiy4"
      },
      "id": "kBA3CjXphiy4",
      "execution_count": 8,
      "outputs": []
    },
    {
      "cell_type": "code",
      "source": [
        "test_loss, test_accuracy = model.evaluate(x_test_norm, y_test_cat)\n"
      ],
      "metadata": {
        "colab": {
          "base_uri": "https://localhost:8080/"
        },
        "id": "919LVVRZhio3",
        "outputId": "ebc7933d-3c8a-481a-bada-f7d695ca575d"
      },
      "id": "919LVVRZhio3",
      "execution_count": 9,
      "outputs": [
        {
          "output_type": "stream",
          "name": "stdout",
          "text": [
            "\u001b[1m313/313\u001b[0m \u001b[32m━━━━━━━━━━━━━━━━━━━━\u001b[0m\u001b[37m\u001b[0m \u001b[1m1s\u001b[0m 2ms/step - accuracy: 0.4600 - loss: 1.8046\n"
          ]
        }
      ]
    },
    {
      "cell_type": "code",
      "source": [
        "from tensorflow.keras.metrics import CategoricalAccuracy, Precision\n",
        "\n",
        "# Evaluation on test data\n",
        "test_loss, test_accuracy = model.evaluate(x_test_norm, y_test_cat, verbose=0)\n",
        "print(f\"Test Accuracy: {test_accuracy:.4f}\")\n",
        "\n",
        "# Calculate precision\n",
        "precision = Precision()\n",
        "precision.update_state(y_test_cat, model.predict(x_test_norm))\n",
        "test_precision = precision.result().numpy()\n",
        "print(f\"Precision: {test_precision:.4f}\")\n"
      ],
      "metadata": {
        "colab": {
          "base_uri": "https://localhost:8080/"
        },
        "id": "IDxWubM_hQ1s",
        "outputId": "d69ca887-f55a-47fb-f4b6-b36a6219e6a4"
      },
      "id": "IDxWubM_hQ1s",
      "execution_count": 16,
      "outputs": [
        {
          "output_type": "stream",
          "name": "stdout",
          "text": [
            "Test Accuracy: 0.4587\n",
            "\u001b[1m313/313\u001b[0m \u001b[32m━━━━━━━━━━━━━━━━━━━━\u001b[0m\u001b[37m\u001b[0m \u001b[1m1s\u001b[0m 2ms/step\n",
            "Precision: 0.6578\n"
          ]
        }
      ]
    },
    {
      "cell_type": "markdown",
      "source": [
        "Test Accuracy: 0.4587 (45.87%)\n",
        "Interpretation: This metric indicates that our model correctly predicted the class of approximately 45.87% of the test set images. For a dataset with 20 classes like CIFAR-100, this is a reasonable starting accuracy, especially considering the complexity and variance in the dataset. However, there's certainly room for improvement.\n",
        "Precision: 0.6578 (65.78%)\n",
        "Interpretation: Precision measures the accuracy of positive predictions. That is, when our model predicts a certain class, it is correct about 65.78% of the time. This metric is particularly important if the cost of a false positive is high. In the context of a diverse dataset with many categories, a precision of 65.78% is quite good, indicating that when the model makes a prediction, it tends to be reliable more than half the time.\n",
        "What These Metrics Tell Us:\n",
        "Accuracy vs. Precision: The relatively higher precision compared to accuracy suggests that while the model may not always predict correctly across all classes (as evidenced by the accuracy), it is fairly reliable when it does make a positive prediction for a class. This might indicate that for some classes, the model is very confident and accurate, whereas, for others, it may struggle more significantly.\n",
        "Next Steps for Model Improvement:\n",
        "Data Augmentation: To improve generalization, we can implement data augmentation techniques to artificially expand the training dataset by altering the images (e.g., rotating, zooming, flipping).\n",
        "Model Architecture Adjustments: Experiment with adding more convolutional layers or adjusting the existing layers (e.g., increasing the number of filters, using different kernel sizes). Incorporating dropout layers might also help to reduce overfitting.\n",
        "Hyperparameter Tuning: Experimenting with different learning rates, batch sizes, or other training parameters could yield better results. Using learning rate schedulers that adjust the learning rate during training could also be beneficial.\n",
        "Advanced Regularization Techniques: Implementing batch normalization might help in stabilizing the learning process, and advanced regularization techniques like L2 regularization could also be explored.\n",
        "Error Analysis: Conduct a detailed error analysis to identify specific classes where the model performs poorly and try to understand why—this could guide specific improvements in data preprocessing or model adjustments for those classes.\n",
        "By systematically applying these improvements, we can incrementally enhance our model's performance, potentially achieving higher accuracy and precision."
      ],
      "metadata": {
        "id": "Y69B24XalHDS"
      },
      "id": "Y69B24XalHDS"
    },
    {
      "cell_type": "markdown",
      "source": [
        "### Task 3c: Visualize the model's learning (4 Marks)\n",
        "\n",
        "- Plot the training accuracy and validation accuracy with respect to epochs.\n",
        "- Select an image that the model correctly classified in the test set, and an image that the model incorrectly classified in the test set. Plot the images and report the model's classification probabilities for each.\n",
        "- Briefly discuss the results. What do the plots show? Do the results make sense? What do the classification probabilities indicate?"
      ],
      "metadata": {
        "collapsed": false,
        "id": "58d2d836d4e8ce99"
      },
      "id": "58d2d836d4e8ce99"
    },
    {
      "cell_type": "code",
      "source": [
        "import matplotlib.pyplot as plt\n",
        "\n",
        "# Assuming 'history' is the output from the model.fit() call.\n",
        "history = model.fit(X_train, y_train,\n",
        "                    epochs=15,\n",
        "                    batch_size=32,\n",
        "                    validation_data=(X_val, y_val),\n",
        "                    callbacks=[early_stopping])\n",
        "\n",
        "# Extracting accuracy history for plotting\n",
        "acc = history.history['accuracy']\n",
        "val_acc = history.history['val_accuracy']\n",
        "epochs = range(1, len(acc) + 1)\n",
        "\n",
        "# Plotting training and validation accuracy\n",
        "plt.figure(figsize=(10, 5))\n",
        "plt.plot(epochs, acc, 'bo', label='Training accuracy')\n",
        "plt.plot(epochs, val_acc, 'b', label='Validation accuracy')\n",
        "plt.title('Training and Validation Accuracy')\n",
        "plt.legend()\n",
        "plt.show()\n"
      ],
      "metadata": {
        "id": "c5b214475a496ca5",
        "colab": {
          "base_uri": "https://localhost:8080/",
          "height": 575
        },
        "outputId": "b229cf14-9110-42c6-90c9-d6fb0dbe81a1"
      },
      "id": "c5b214475a496ca5",
      "outputs": [
        {
          "output_type": "stream",
          "name": "stdout",
          "text": [
            "Epoch 1/15\n",
            "\u001b[1m1250/1250\u001b[0m \u001b[32m━━━━━━━━━━━━━━━━━━━━\u001b[0m\u001b[37m\u001b[0m \u001b[1m4s\u001b[0m 3ms/step - accuracy: 0.5526 - loss: 1.4320 - val_accuracy: 0.4536 - val_loss: 1.8283\n",
            "Epoch 2/15\n",
            "\u001b[1m1250/1250\u001b[0m \u001b[32m━━━━━━━━━━━━━━━━━━━━\u001b[0m\u001b[37m\u001b[0m \u001b[1m4s\u001b[0m 3ms/step - accuracy: 0.5594 - loss: 1.4075 - val_accuracy: 0.4551 - val_loss: 1.8195\n",
            "Epoch 3/15\n",
            "\u001b[1m1250/1250\u001b[0m \u001b[32m━━━━━━━━━━━━━━━━━━━━\u001b[0m\u001b[37m\u001b[0m \u001b[1m5s\u001b[0m 3ms/step - accuracy: 0.5731 - loss: 1.3647 - val_accuracy: 0.4573 - val_loss: 1.8293\n"
          ]
        },
        {
          "output_type": "display_data",
          "data": {
            "text/plain": [
              "<Figure size 1000x500 with 1 Axes>"
            ],
            "image/png": "[encoded data removed]"
          },
          "metadata": {}
        }
      ],
      "execution_count": 17
    },
    {
      "cell_type": "code",
      "source": [
        "import numpy as np\n",
        "\n",
        "# Predictions from the model\n",
        "predictions = model.predict(x_test_norm)\n",
        "predicted_classes = np.argmax(predictions, axis=1)\n",
        "true_classes = y_test.flatten()  # Make sure the true_classes are in the correct shape\n",
        "\n",
        "# Find correct and incorrect indices\n",
        "correct_indices = np.where(predicted_classes == true_classes)[0]\n",
        "incorrect_indices = np.where(predicted_classes != true_classes)[0]\n",
        "\n",
        "# Select one correct and one incorrect classified image\n",
        "correct_image_idx = correct_indices[0]\n",
        "incorrect_image_idx = incorrect_indices[0]\n",
        "\n",
        "# Plot the images and probabilities\n",
        "fig, ax = plt.subplots(1, 2, figsize=(10, 5))\n",
        "ax[0].imshow(x_test[correct_image_idx])\n",
        "ax[0].set_title(f\"Correct: {class_names[true_classes[correct_image_idx]]}\")\n",
        "\n",
        "ax[1].imshow(x_test[incorrect_image_idx])\n",
        "ax[1].set_title(f\"Incorrect: {class_names[true_classes[incorrect_image_idx]]}\")\n",
        "\n",
        "plt.show()\n",
        "\n",
        "# Print classification probabilities\n",
        "print(f\"Correct Image Classification Probability: {np.max(predictions[correct_image_idx])}\")\n",
        "print(f\"Incorrect Image Classification Probability: {np.max(predictions[incorrect_image_idx])}\")\n"
      ],
      "metadata": {
        "colab": {
          "base_uri": "https://localhost:8080/",
          "height": 489
        },
        "id": "tu5h8Y5ql-uG",
        "outputId": "127cca9f-316d-4556-b11d-b8acadd667c6"
      },
      "id": "tu5h8Y5ql-uG",
      "execution_count": 18,
      "outputs": [
        {
          "output_type": "stream",
          "name": "stdout",
          "text": [
            "\u001b[1m313/313\u001b[0m \u001b[32m━━━━━━━━━━━━━━━━━━━━\u001b[0m\u001b[37m\u001b[0m \u001b[1m1s\u001b[0m 2ms/step\n"
          ]
        },
        {
          "output_type": "display_data",
          "data": {
            "text/plain": [
              "<Figure size 1000x500 with 2 Axes>"
            ],
            "image/png": "[encoded data removed]"
          },
          "metadata": {}
        },
        {
          "output_type": "stream",
          "name": "stdout",
          "text": [
            "Correct Image Classification Probability: 0.6261788606643677\n",
            "Incorrect Image Classification Probability: 0.5063302516937256\n"
          ]
        }
      ]
    },
    {
      "cell_type": "markdown",
      "source": [
        "## Task 4: Model Enhancement (10 Marks)\n",
        "### Task 4a: Implementation of at least one advanced technique (3 Marks)\n",
        "\n",
        "- Now it's time to improve your model. Implement at least one technique to improve your model's performance. You can use any of the techniques we have covered in class, or you can use a technique that we haven't covered. If you need inspiration, you can refer to the [Keras documentation](https://keras.io/).\n",
        "- Explain the technique you used and why you chose it.\n",
        "- If you used a technique that requires tuning, explain how you selected the values for the hyperparameters."
      ],
      "metadata": {
        "collapsed": false,
        "id": "a648758ebea0561d"
      },
      "id": "a648758ebea0561d"
    },
    {
      "cell_type": "code",
      "source": [
        "from tensorflow.keras.preprocessing.image import ImageDataGenerator\n",
        "\n",
        "# Create an instance of ImageDataGenerator with desired augmentations\n",
        "train_datagen = ImageDataGenerator(\n",
        "    rotation_range=15,        # Random rotation between 0 and 15 degrees\n",
        "    width_shift_range=0.1,    # Random horizontal shifts up to 10% of the image width\n",
        "    height_shift_range=0.1,   # Random vertical shifts up to 10% of the image height\n",
        "    horizontal_flip=True,     # Random horizontal flips\n",
        "    fill_mode='nearest'       # Strategy for filling in newly created pixels\n",
        ")\n",
        "\n",
        "# Apply data augmentation to the training data\n",
        "train_generator = train_datagen.flow(X_train, y_train, batch_size=32)\n",
        "\n",
        "# Fit the model using the augmented data\n",
        "history = model.fit(\n",
        "    train_generator,\n",
        "    epochs=15,\n",
        "    validation_data=(X_val, y_val),\n",
        "    callbacks=[early_stopping]\n",
        ")\n"
      ],
      "metadata": {
        "id": "f3659ac83122567f",
        "colab": {
          "base_uri": "https://localhost:8080/"
        },
        "outputId": "ebaa6eeb-86d2-40e4-c9ed-9b1e15d8914f"
      },
      "id": "f3659ac83122567f",
      "outputs": [
        {
          "output_type": "stream",
          "name": "stdout",
          "text": [
            "Epoch 1/15\n"
          ]
        },
        {
          "output_type": "stream",
          "name": "stderr",
          "text": [
            "/usr/local/lib/python3.10/dist-packages/keras/src/trainers/data_adapters/py_dataset_adapter.py:120: UserWarning: Your `PyDataset` class should call `super().__init__(**kwargs)` in its constructor. `**kwargs` can include `workers`, `use_multiprocessing`, `max_queue_size`. Do not pass these arguments to `fit()`, as they will be ignored.\n",
            "  self._warn_if_super_not_called()\n"
          ]
        },
        {
          "output_type": "stream",
          "name": "stdout",
          "text": [
            "\u001b[1m1250/1250\u001b[0m \u001b[32m━━━━━━━━━━━━━━━━━━━━\u001b[0m\u001b[37m\u001b[0m \u001b[1m25s\u001b[0m 19ms/step - accuracy: 0.4266 - loss: 1.8610 - val_accuracy: 0.4605 - val_loss: 1.7498\n",
            "Epoch 2/15\n",
            "\u001b[1m1250/1250\u001b[0m \u001b[32m━━━━━━━━━━━━━━━━━━━━\u001b[0m\u001b[37m\u001b[0m \u001b[1m40s\u001b[0m 19ms/step - accuracy: 0.4450 - loss: 1.7806 - val_accuracy: 0.4634 - val_loss: 1.7324\n",
            "Epoch 3/15\n",
            "\u001b[1m1250/1250\u001b[0m \u001b[32m━━━━━━━━━━━━━━━━━━━━\u001b[0m\u001b[37m\u001b[0m \u001b[1m41s\u001b[0m 19ms/step - accuracy: 0.4491 - loss: 1.7797 - val_accuracy: 0.4458 - val_loss: 1.8114\n",
            "Epoch 4/15\n",
            "\u001b[1m1250/1250\u001b[0m \u001b[32m━━━━━━━━━━━━━━━━━━━━\u001b[0m\u001b[37m\u001b[0m \u001b[1m24s\u001b[0m 19ms/step - accuracy: 0.4562 - loss: 1.7501 - val_accuracy: 0.4628 - val_loss: 1.7415\n",
            "Epoch 5/15\n",
            "\u001b[1m1250/1250\u001b[0m \u001b[32m━━━━━━━━━━━━━━━━━━━━\u001b[0m\u001b[37m\u001b[0m \u001b[1m41s\u001b[0m 19ms/step - accuracy: 0.4547 - loss: 1.7638 - val_accuracy: 0.4779 - val_loss: 1.6979\n",
            "Epoch 6/15\n",
            "\u001b[1m1250/1250\u001b[0m \u001b[32m━━━━━━━━━━━━━━━━━━━━\u001b[0m\u001b[37m\u001b[0m \u001b[1m41s\u001b[0m 19ms/step - accuracy: 0.4652 - loss: 1.7193 - val_accuracy: 0.4409 - val_loss: 1.8226\n",
            "Epoch 7/15\n",
            "\u001b[1m1250/1250\u001b[0m \u001b[32m━━━━━━━━━━━━━━━━━━━━\u001b[0m\u001b[37m\u001b[0m \u001b[1m41s\u001b[0m 19ms/step - accuracy: 0.4653 - loss: 1.7234 - val_accuracy: 0.4877 - val_loss: 1.6661\n",
            "Epoch 8/15\n",
            "\u001b[1m1250/1250\u001b[0m \u001b[32m━━━━━━━━━━━━━━━━━━━━\u001b[0m\u001b[37m\u001b[0m \u001b[1m41s\u001b[0m 19ms/step - accuracy: 0.4739 - loss: 1.7030 - val_accuracy: 0.4858 - val_loss: 1.6662\n",
            "Epoch 9/15\n",
            "\u001b[1m1250/1250\u001b[0m \u001b[32m━━━━━━━━━━━━━━━━━━━━\u001b[0m\u001b[37m\u001b[0m \u001b[1m41s\u001b[0m 19ms/step - accuracy: 0.4701 - loss: 1.7063 - val_accuracy: 0.4753 - val_loss: 1.7105\n",
            "Epoch 10/15\n",
            "\u001b[1m1250/1250\u001b[0m \u001b[32m━━━━━━━━━━━━━━━━━━━━\u001b[0m\u001b[37m\u001b[0m \u001b[1m41s\u001b[0m 19ms/step - accuracy: 0.4740 - loss: 1.6871 - val_accuracy: 0.4918 - val_loss: 1.6524\n",
            "Epoch 11/15\n",
            "\u001b[1m1250/1250\u001b[0m \u001b[32m━━━━━━━━━━━━━━━━━━━━\u001b[0m\u001b[37m\u001b[0m \u001b[1m24s\u001b[0m 19ms/step - accuracy: 0.4730 - loss: 1.6860 - val_accuracy: 0.4900 - val_loss: 1.6566\n",
            "Epoch 12/15\n",
            "\u001b[1m1250/1250\u001b[0m \u001b[32m━━━━━━━━━━━━━━━━━━━━\u001b[0m\u001b[37m\u001b[0m \u001b[1m24s\u001b[0m 19ms/step - accuracy: 0.4727 - loss: 1.6784 - val_accuracy: 0.4665 - val_loss: 1.7230\n",
            "Epoch 13/15\n",
            "\u001b[1m1250/1250\u001b[0m \u001b[32m━━━━━━━━━━━━━━━━━━━━\u001b[0m\u001b[37m\u001b[0m \u001b[1m24s\u001b[0m 19ms/step - accuracy: 0.4804 - loss: 1.6610 - val_accuracy: 0.4833 - val_loss: 1.6699\n"
          ]
        }
      ],
      "execution_count": 19
    },
    {
      "cell_type": "markdown",
      "source": [
        "### Task 4b: Evaluation of the enhanced model (4 Marks)\n",
        "\n",
        "- Re-train your model using the same number of epochs as before.\n",
        "- Compare the accuracy and other selected metric on the test set to the results you obtained before.\n",
        "- As before, plot the training accuracy and validation accuracy with respect to epochs, and select an image that the model correctly classified in the test set, and an image that the model incorrectly classified in the test set. Plot the images and report the model's classification probabilities for each."
      ],
      "metadata": {
        "collapsed": false,
        "id": "d9467a483a1dd5d3"
      },
      "id": "d9467a483a1dd5d3"
    },
    {
      "cell_type": "code",
      "source": [
        "history = model.fit(\n",
        "    train_generator,\n",
        "    epochs=15,  # Same number of epochs as the initial run\n",
        "    validation_data=(X_val, y_val),\n",
        "    callbacks=[early_stopping]\n",
        ")\n"
      ],
      "metadata": {
        "colab": {
          "base_uri": "https://localhost:8080/"
        },
        "id": "R-QGY9VlrFVp",
        "outputId": "51fb9576-05a9-4094-df99-c1123d773f27"
      },
      "id": "R-QGY9VlrFVp",
      "execution_count": 20,
      "outputs": [
        {
          "output_type": "stream",
          "name": "stdout",
          "text": [
            "Epoch 1/15\n",
            "\u001b[1m1250/1250\u001b[0m \u001b[32m━━━━━━━━━━━━━━━━━━━━\u001b[0m\u001b[37m\u001b[0m \u001b[1m31s\u001b[0m 24ms/step - accuracy: 0.4841 - loss: 1.6598 - val_accuracy: 0.4858 - val_loss: 1.6520\n",
            "Epoch 2/15\n",
            "\u001b[1m1250/1250\u001b[0m \u001b[32m━━━━━━━━━━━━━━━━━━━━\u001b[0m\u001b[37m\u001b[0m \u001b[1m24s\u001b[0m 19ms/step - accuracy: 0.4861 - loss: 1.6503 - val_accuracy: 0.4909 - val_loss: 1.6463\n",
            "Epoch 3/15\n",
            "\u001b[1m1250/1250\u001b[0m \u001b[32m━━━━━━━━━━━━━━━━━━━━\u001b[0m\u001b[37m\u001b[0m \u001b[1m42s\u001b[0m 20ms/step - accuracy: 0.4868 - loss: 1.6470 - val_accuracy: 0.4890 - val_loss: 1.6518\n",
            "Epoch 4/15\n",
            "\u001b[1m1250/1250\u001b[0m \u001b[32m━━━━━━━━━━━━━━━━━━━━\u001b[0m\u001b[37m\u001b[0m \u001b[1m41s\u001b[0m 20ms/step - accuracy: 0.4892 - loss: 1.6350 - val_accuracy: 0.4984 - val_loss: 1.6196\n",
            "Epoch 5/15\n",
            "\u001b[1m1250/1250\u001b[0m \u001b[32m━━━━━━━━━━━━━━━━━━━━\u001b[0m\u001b[37m\u001b[0m \u001b[1m25s\u001b[0m 20ms/step - accuracy: 0.4840 - loss: 1.6467 - val_accuracy: 0.4897 - val_loss: 1.6431\n",
            "Epoch 6/15\n",
            "\u001b[1m1250/1250\u001b[0m \u001b[32m━━━━━━━━━━━━━━━━━━━━\u001b[0m\u001b[37m\u001b[0m \u001b[1m24s\u001b[0m 19ms/step - accuracy: 0.4906 - loss: 1.6286 - val_accuracy: 0.4954 - val_loss: 1.6285\n",
            "Epoch 7/15\n",
            "\u001b[1m1250/1250\u001b[0m \u001b[32m━━━━━━━━━━━━━━━━━━━━\u001b[0m\u001b[37m\u001b[0m \u001b[1m42s\u001b[0m 20ms/step - accuracy: 0.4836 - loss: 1.6388 - val_accuracy: 0.4938 - val_loss: 1.6148\n",
            "Epoch 8/15\n",
            "\u001b[1m1250/1250\u001b[0m \u001b[32m━━━━━━━━━━━━━━━━━━━━\u001b[0m\u001b[37m\u001b[0m \u001b[1m24s\u001b[0m 19ms/step - accuracy: 0.4899 - loss: 1.6209 - val_accuracy: 0.4994 - val_loss: 1.6067\n",
            "Epoch 9/15\n",
            "\u001b[1m1250/1250\u001b[0m \u001b[32m━━━━━━━━━━━━━━━━━━━━\u001b[0m\u001b[37m\u001b[0m \u001b[1m24s\u001b[0m 19ms/step - accuracy: 0.4964 - loss: 1.6035 - val_accuracy: 0.4762 - val_loss: 1.7172\n",
            "Epoch 10/15\n",
            "\u001b[1m1250/1250\u001b[0m \u001b[32m━━━━━━━━━━━━━━━━━━━━\u001b[0m\u001b[37m\u001b[0m \u001b[1m41s\u001b[0m 19ms/step - accuracy: 0.4927 - loss: 1.6146 - val_accuracy: 0.4961 - val_loss: 1.6299\n",
            "Epoch 11/15\n",
            "\u001b[1m1250/1250\u001b[0m \u001b[32m━━━━━━━━━━━━━━━━━━━━\u001b[0m\u001b[37m\u001b[0m \u001b[1m24s\u001b[0m 19ms/step - accuracy: 0.4993 - loss: 1.6006 - val_accuracy: 0.4961 - val_loss: 1.6337\n"
          ]
        }
      ]
    },
    {
      "cell_type": "code",
      "source": [
        "test_loss, test_accuracy = model.evaluate(x_test_norm, y_test_cat, verbose=0)\n",
        "print(f\"Test Accuracy: {test_accuracy:.4f}\")\n",
        "\n",
        "# Calculate precision or another relevant metric\n",
        "precision = Precision()\n",
        "precision.update_state(y_test_cat, model.predict(x_test_norm))\n",
        "test_precision = precision.result().numpy()\n",
        "print(f\"Precision: {test_precision:.4f}\")\n"
      ],
      "metadata": {
        "id": "7c4701b36dc8fc55",
        "colab": {
          "base_uri": "https://localhost:8080/"
        },
        "outputId": "e61dfb3d-c09b-4300-cd3f-cb5f4f8ff128"
      },
      "id": "7c4701b36dc8fc55",
      "outputs": [
        {
          "output_type": "stream",
          "name": "stdout",
          "text": [
            "Test Accuracy: 0.4844\n",
            "\u001b[1m313/313\u001b[0m \u001b[32m━━━━━━━━━━━━━━━━━━━━\u001b[0m\u001b[37m\u001b[0m \u001b[1m1s\u001b[0m 2ms/step\n",
            "Precision: 0.7125\n"
          ]
        }
      ],
      "execution_count": 21
    },
    {
      "cell_type": "markdown",
      "source": [
        "### Task 4c: Discussion of the results (3 Marks)\n",
        "\n",
        "- Briefly discuss the results.\n",
        "- Did the model's performance improve?\n",
        "- Why do you think this is?\n",
        "- Do you think there is room for further improvement? Why or why not?\n",
        "- What other techniques might you try in the future?\n",
        "- Your answer should be no more than 200 words.\n",
        "\n",
        "# Your answer here"
      ],
      "metadata": {
        "collapsed": false,
        "id": "eadfc848700215e8"
      },
      "id": "eadfc848700215e8"
    },
    {
      "cell_type": "markdown",
      "source": [
        "The enhanced model displayed improved performance, with test accuracy increasing from 45.87% to 48.44% and precision rising from 65.78% to 71.25%. These improvements are likely due to the effective implementation of data augmentation, which enhanced the model's ability to generalize from the training set to unseen data by exposing it to more varied representations of image classes during training. This technique helps prevent the model from learning overly specific patterns present only in the training data, thereby increasing its robustness.\n",
        "\n"
      ],
      "metadata": {
        "id": "ZQhSxTSRs5Tg"
      },
      "id": "ZQhSxTSRs5Tg"
    },
    {
      "cell_type": "markdown",
      "source": [
        "Despite these gains, there is still room for further improvement. The accuracy, though better, suggests that the model could benefit from additional or different strategies to further enhance its learning capabilities. For future enhancements, exploring more sophisticated CNN architectures like ResNet or DenseNet might be beneficial. Additionally, introducing dropout or increasing model depth and complexity could help the model capture more intricate patterns in the data. Regularization techniques, such as L2 regularization, and experimenting with different optimizers or learning rate schedules could also yield better results and stabilize training further. These strategies could address potential overfitting and aid in achieving higher overall performance.\n",
        "\n",
        "\n",
        "\n",
        "\n",
        "\n",
        "\n",
        "\n"
      ],
      "metadata": {
        "id": "9MiRVDFos6yo"
      },
      "id": "9MiRVDFos6yo"
    }
  ],
  "metadata": {
    "kernelspec": {
      "name": "python3",
      "display_name": "Python 3"
    },
    "colab": {
      "provenance": [],
      "gpuType": "T4",
      "include_colab_link": true
    },
    "accelerator": "GPU"
  },
  "nbformat": 4,
  "nbformat_minor": 5
}